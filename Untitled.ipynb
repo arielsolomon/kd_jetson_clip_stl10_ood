{
 "cells": [
  {
   "cell_type": "code",
   "execution_count": null,
   "id": "e063ada6",
   "metadata": {},
   "outputs": [
    {
     "name": "stderr",
     "output_type": "stream",
     "text": [
      "2023-12-06 13:53:54.838106: W tensorflow/stream_executor/platform/default/dso_loader.cc:64] Could not load dynamic library 'libcudart.so.11.0'; dlerror: libcudart.so.11.0: cannot open shared object file: No such file or directory\n",
      "2023-12-06 13:53:54.838158: I tensorflow/stream_executor/cuda/cudart_stub.cc:29] Ignore above cudart dlerror if you do not have a GPU set up on your machine.\n"
     ]
    }
   ],
   "source": [
    "import torch\n",
    "import torch.onnx\n",
    "import os\n",
    "import torch2trt"
   ]
  },
  {
   "cell_type": "code",
   "execution_count": null,
   "id": "cdea54a5",
   "metadata": {},
   "outputs": [],
   "source": [
    "def load_resnet18(model_path):\n",
    "    custom_resnet18 = models.resnet18(num_classes=10)\n",
    "    custom_resnet18.load_state_dict(torch.load(model_path))\n",
    "    return custom_resnet18"
   ]
  },
  {
   "cell_type": "code",
   "execution_count": null,
   "id": "5558d847",
   "metadata": {},
   "outputs": [],
   "source": [
    "example_input = torch.randn(1,3, 96, 96)\n",
    "model_path = os.getcwd() + '/data/experiments/train_resnet18_zero_shot_train_only/checkpoint_28.pth'\n",
    "onnx_path = \"resnet18.onnx\"  # Save the converted ONNX model\n",
    "engine_path = \"resnet18.trt\"  # Save the TensorRT engine\n",
    "\n",
    "# Load the ResNet18 model\n",
    "custom_resnet18 = load_resnet18(model_path)\n",
    "\n",
    "# Set the model to evaluation mode\n",
    "custom_resnet18.eval()\n",
    "\n",
    "# Dummy input\n",
    "dummy_input = torch.randn(1, 3, 96, 96)\n",
    "\n",
    "# Export the model to ONNX\n",
    "torch.onnx.export(custom_resnet18, dummy_input, onnx_path, verbose=True)\n",
    "onnx_model = onnx.load(onnx_path)"
   ]
  },
  {
   "cell_type": "code",
   "execution_count": null,
   "id": "92a87faf",
   "metadata": {},
   "outputs": [],
   "source": []
  }
 ],
 "metadata": {
  "kernelspec": {
   "display_name": "Python 3 (ipykernel)",
   "language": "python",
   "name": "python3"
  },
  "language_info": {
   "codemirror_mode": {
    "name": "ipython",
    "version": 3
   },
   "file_extension": ".py",
   "mimetype": "text/x-python",
   "name": "python",
   "nbconvert_exporter": "python",
   "pygments_lexer": "ipython3",
   "version": "3.8.10"
  }
 },
 "nbformat": 4,
 "nbformat_minor": 5
}
