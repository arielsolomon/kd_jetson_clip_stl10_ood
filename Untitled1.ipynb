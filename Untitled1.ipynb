{
 "cells": [
  {
   "cell_type": "code",
   "execution_count": 35,
   "id": "dbb6e77b",
   "metadata": {},
   "outputs": [],
   "source": [
    "import numpy as np\n",
    "from PIL import Image\n",
    "import glob"
   ]
  },
  {
   "cell_type": "code",
   "execution_count": 36,
   "id": "0601a3e2",
   "metadata": {},
   "outputs": [],
   "source": [
    "root = '/Data/federated_learning/kd_jetson_clip_ex/data/cifar10_c/CIFAR-10-C/'"
   ]
  },
  {
   "cell_type": "code",
   "execution_count": 37,
   "id": "6f818665",
   "metadata": {},
   "outputs": [],
   "source": [
    "pixelates = root+'pixelate.npy'"
   ]
  },
  {
   "cell_type": "code",
   "execution_count": 38,
   "id": "d7212897",
   "metadata": {},
   "outputs": [],
   "source": [
    "pixelate_np = np.load(pixelates[5,:,:,:])\n",
    "print(pixelate_np.shape)"
   ]
  },
  {
   "cell_type": "code",
   "execution_count": 39,
   "id": "912494a1",
   "metadata": {},
   "outputs": [],
   "source": [
    "image = Image.fromarray(pixelate_np, 'RGB')\n",
    "image.show()"
   ]
  },
  {
   "cell_type": "code",
   "execution_count": null,
   "id": "34b33e2b",
   "metadata": {},
   "outputs": [],
   "source": []
  }
 ],
 "metadata": {
  "kernelspec": {
   "display_name": "Python 3 (ipykernel)",
   "language": "python",
   "name": "python3"
  },
  "language_info": {
   "codemirror_mode": {
    "name": "ipython",
    "version": 3
   },
   "file_extension": ".py",
   "mimetype": "text/x-python",
   "name": "python",
   "nbconvert_exporter": "python",
   "pygments_lexer": "ipython3",
   "version": "3.8.10"
  }
 },
 "nbformat": 4,
 "nbformat_minor": 5
}
